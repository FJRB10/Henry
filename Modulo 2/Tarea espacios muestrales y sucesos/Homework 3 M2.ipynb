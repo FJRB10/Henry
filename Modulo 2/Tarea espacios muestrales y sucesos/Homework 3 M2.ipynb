{
 "cells": [
  {
   "cell_type": "code",
   "execution_count": 3,
   "metadata": {},
   "outputs": [],
   "source": [
    "import pandas as pd\n",
    "import numpy as np"
   ]
  },
  {
   "cell_type": "markdown",
   "metadata": {},
   "source": [
    "1. Suponga dos eventos, A y B, y que P(A) = 0.50, P(B) = 0.60 y P(A ∩ B) = 0.40.\n",
    "\n",
    "a. Halle P(A | B).\n",
    "\n",
    "b. Halle P(B | A).\n",
    "\n",
    "c. ¿A y B son independientes? ¿Por qué sí o por qué no?"
   ]
  },
  {
   "cell_type": "code",
   "execution_count": 3,
   "metadata": {},
   "outputs": [
    {
     "name": "stdout",
     "output_type": "stream",
     "text": [
      "La probabilidad de a dado b es: 0.6666666666666667 \n",
      "\n",
      "La probabilidad de b dado a es: 0.8 \n",
      "\n",
      "Ambos eventos no son independientes\n"
     ]
    }
   ],
   "source": [
    "probabilidadA = 0.5\n",
    "probabilidadB = 0.6\n",
    "probabilidadAYB = 0.4\n",
    "\n",
    "a = probabilidadAYB / probabilidadB\n",
    "print('La probabilidad de a dado b es:', a, '\\n')\n",
    "\n",
    "b = probabilidadAYB / probabilidadA\n",
    "print('La probabilidad de b dado a es:', b, '\\n')\n",
    "\n",
    "c = probabilidadA * probabilidadB\n",
    "\n",
    "if c == probabilidadAYB:\n",
    "    print('Ambos eventos son independientes')\n",
    "else:\n",
    "    print('Ambos eventos no son independientes')"
   ]
  },
  {
   "cell_type": "markdown",
   "metadata": {},
   "source": [
    "2. Suponga dos eventos, A y B, que son mutuamente excluyentes. Admita, además, que P(A) = 0.30 y P(B) = 0.40.\n",
    "\n",
    "a. Obtenga P(A ∩ B). ¿Existe intersección entre los dos conjuntos?.\n",
    "\n",
    "b. Calcule P(A | B).\n",
    "\n",
    "c. Un estudiante de estadística argumenta que los conceptos de eventos mutuamente excluyentes y eventos independientes son en realidad lo mismo y que si los eventos son mutuamente excluyentes deben ser también independientes. ¿Está usted de acuerdo? Use la información sobre las probabilidades para justificar su respuesta."
   ]
  },
  {
   "cell_type": "code",
   "execution_count": 11,
   "metadata": {},
   "outputs": [
    {
     "name": "stdout",
     "output_type": "stream",
     "text": [
      "No existe intersección entre el evento A y B ya que son mutuamente excluyentes, esto quiere decir que o sucede A o sucede B.\n",
      "Por lo tanto la probabilidad de A y B es igual a 0.\n",
      "\n",
      "La probabilidad de A dado B es igual a la probabilidad de A que es: 0.3 \n",
      "\n",
      "Se sabe que la probabilidad de dos eventos independientes y no excluyentes debe ser el producto de ambos eventos, lo cual sería: 0.12 \n",
      "Pero como se sabe que la probabilidad de dos eventos excluyentes es 0, se refutaria y sería falso el argumento del estudiante.\n"
     ]
    }
   ],
   "source": [
    "probabilidadA = 0.3\n",
    "probabilidadB = 0.4\n",
    "\n",
    "print('No existe intersección entre el evento A y B ya que son mutuamente excluyentes, esto quiere decir que o sucede A o sucede B.')\n",
    "print('Por lo tanto la probabilidad de A y B es igual a 0.\\n')\n",
    "\n",
    "probabilidadAYB = 0\n",
    "\n",
    "b = probabilidadA\n",
    "\n",
    "print('La probabilidad de A dado B es igual a la probabilidad de A que es:', b, '\\n')\n",
    "\n",
    "probabilidadAYB2 = probabilidadA * probabilidadB\n",
    "\n",
    "print('Se sabe que la probabilidad de dos eventos independientes y no excluyentes debe ser el producto de ambos eventos, lo cual sería:', probabilidadAYB2, '')\n",
    "print('Pero como se sabe que la probabilidad de dos eventos excluyentes es 0, se refutaria y sería falso el argumento del estudiante.')"
   ]
  },
  {
   "cell_type": "markdown",
   "metadata": {},
   "source": [
    "3. Si en la concesionaria se seleccionan dos ventas con reposición (Los sucesos son independientes.). Hallar la probabilidad de que las ventas sean:\n",
    "\n",
    "a. La primera de un comprador de “menos de 40 años” y la segunda de uno de \"entre 40 y 50 años\".\n",
    "\n",
    "b. las dos sean de autos \"nacionales\"."
   ]
  },
  {
   "cell_type": "code",
   "execution_count": 17,
   "metadata": {},
   "outputs": [
    {
     "data": {
      "text/html": [
       "<div>\n",
       "<style scoped>\n",
       "    .dataframe tbody tr th:only-of-type {\n",
       "        vertical-align: middle;\n",
       "    }\n",
       "\n",
       "    .dataframe tbody tr th {\n",
       "        vertical-align: top;\n",
       "    }\n",
       "\n",
       "    .dataframe thead th {\n",
       "        text-align: right;\n",
       "    }\n",
       "</style>\n",
       "<table border=\"1\" class=\"dataframe\">\n",
       "  <thead>\n",
       "    <tr style=\"text-align: right;\">\n",
       "      <th></th>\n",
       "      <th>Nacional</th>\n",
       "      <th>Importado</th>\n",
       "      <th>Total</th>\n",
       "    </tr>\n",
       "  </thead>\n",
       "  <tbody>\n",
       "    <tr>\n",
       "      <th>Menos de 40</th>\n",
       "      <td>24</td>\n",
       "      <td>6</td>\n",
       "      <td>30</td>\n",
       "    </tr>\n",
       "    <tr>\n",
       "      <th>Entre 40 y 50</th>\n",
       "      <td>19</td>\n",
       "      <td>15</td>\n",
       "      <td>34</td>\n",
       "    </tr>\n",
       "    <tr>\n",
       "      <th>Más de 50</th>\n",
       "      <td>7</td>\n",
       "      <td>9</td>\n",
       "      <td>16</td>\n",
       "    </tr>\n",
       "    <tr>\n",
       "      <th>Total</th>\n",
       "      <td>50</td>\n",
       "      <td>30</td>\n",
       "      <td>80</td>\n",
       "    </tr>\n",
       "  </tbody>\n",
       "</table>\n",
       "</div>"
      ],
      "text/plain": [
       "               Nacional  Importado  Total\n",
       "Menos de 40          24          6     30\n",
       "Entre 40 y 50        19         15     34\n",
       "Más de 50             7          9     16\n",
       "Total                50         30     80"
      ]
     },
     "execution_count": 17,
     "metadata": {},
     "output_type": "execute_result"
    }
   ],
   "source": [
    "dic1 = {\n",
    "    'Nacional' : [24, 19, 7, 50],\n",
    "    'Importado' : [6, 15, 9, 30],\n",
    "    'Total' : [30, 34, 16, 80]\n",
    "}\n",
    "\n",
    "indices = ['Menos de 40', 'Entre 40 y 50', 'Más de 50', 'Total']\n",
    "\n",
    "df1 = pd.DataFrame(dic1, index = indices)\n",
    "\n",
    "df1"
   ]
  },
  {
   "cell_type": "code",
   "execution_count": 47,
   "metadata": {},
   "outputs": [
    {
     "data": {
      "text/html": [
       "<div>\n",
       "<style scoped>\n",
       "    .dataframe tbody tr th:only-of-type {\n",
       "        vertical-align: middle;\n",
       "    }\n",
       "\n",
       "    .dataframe tbody tr th {\n",
       "        vertical-align: top;\n",
       "    }\n",
       "\n",
       "    .dataframe thead th {\n",
       "        text-align: right;\n",
       "    }\n",
       "</style>\n",
       "<table border=\"1\" class=\"dataframe\">\n",
       "  <thead>\n",
       "    <tr style=\"text-align: right;\">\n",
       "      <th></th>\n",
       "      <th>Nacional</th>\n",
       "      <th>Importado</th>\n",
       "      <th>Total</th>\n",
       "    </tr>\n",
       "  </thead>\n",
       "  <tbody>\n",
       "    <tr>\n",
       "      <th>Menos de 40</th>\n",
       "      <td>0.3000</td>\n",
       "      <td>0.0750</td>\n",
       "      <td>0.375</td>\n",
       "    </tr>\n",
       "    <tr>\n",
       "      <th>Entre 40 y 50</th>\n",
       "      <td>0.2375</td>\n",
       "      <td>0.1875</td>\n",
       "      <td>0.425</td>\n",
       "    </tr>\n",
       "    <tr>\n",
       "      <th>Más de 50</th>\n",
       "      <td>0.0875</td>\n",
       "      <td>0.1125</td>\n",
       "      <td>0.200</td>\n",
       "    </tr>\n",
       "    <tr>\n",
       "      <th>Total</th>\n",
       "      <td>0.6250</td>\n",
       "      <td>0.3750</td>\n",
       "      <td>1.000</td>\n",
       "    </tr>\n",
       "  </tbody>\n",
       "</table>\n",
       "</div>"
      ],
      "text/plain": [
       "               Nacional  Importado  Total\n",
       "Menos de 40      0.3000     0.0750  0.375\n",
       "Entre 40 y 50    0.2375     0.1875  0.425\n",
       "Más de 50        0.0875     0.1125  0.200\n",
       "Total            0.6250     0.3750  1.000"
      ]
     },
     "execution_count": 47,
     "metadata": {},
     "output_type": "execute_result"
    }
   ],
   "source": [
    "arreglo1 = np.array([dic1['Nacional'], dic1['Importado'], dic1['Total']])\n",
    "total = df1.loc['Total', 'Total']\n",
    "\n",
    "arreglo2 = arreglo1 / total\n",
    "\n",
    "dic2 = {\n",
    "    'Nacional' : arreglo2[0],\n",
    "    'Importado' : arreglo2[1],\n",
    "    'Total' : arreglo2[2]\n",
    "}\n",
    "\n",
    "df2 = pd.DataFrame(dic2, index = indices)\n",
    "df2"
   ]
  },
  {
   "cell_type": "code",
   "execution_count": 48,
   "metadata": {},
   "outputs": [
    {
     "data": {
      "text/plain": [
       "Nacional     0.625\n",
       "Importado    0.375\n",
       "Total        1.000\n",
       "Name: Total, dtype: float64"
      ]
     },
     "execution_count": 48,
     "metadata": {},
     "output_type": "execute_result"
    }
   ],
   "source": [
    "df2.loc['Total']"
   ]
  },
  {
   "cell_type": "code",
   "execution_count": 52,
   "metadata": {},
   "outputs": [
    {
     "name": "stdout",
     "output_type": "stream",
     "text": [
      "la probabilidad de que la primera venta sea por un comprador de menos de 40 años y la segunda venta sea por un comprador de entre 40 y 50 años es de: 0.159375 \n",
      "\n",
      "la probabilidad de que la primera venta sea coche nacional y la segunda venta también sea coche nacional es de: 0.390625\n"
     ]
    }
   ],
   "source": [
    "a = df2.loc['Menos de 40', 'Total'] * df2.loc['Entre 40 y 50', 'Total']\n",
    "print('la probabilidad de que la primera venta sea por un comprador de menos de 40 años y la segunda venta sea por un comprador de entre 40 y 50 años es de:', a, '\\n')\n",
    "\n",
    "b = df2.loc['Total', 'Nacional'] * df2.loc['Total', 'Nacional']\n",
    "print('la probabilidad de que la primera venta sea coche nacional y la segunda venta también sea coche nacional es de:', b)"
   ]
  },
  {
   "cell_type": "markdown",
   "metadata": {},
   "source": [
    "6. Si la selección de las dos ventas se realiza sin reposición. Hallar la probabilidad de que las ventas sean:\n",
    "Los sucesos son condicionales.\n",
    "\n",
    "a. la primera de un comprador de “menos de 40 años” y la segunda de uno de \"entre 40 y 50 años\".\n",
    "\n",
    "b. las dos sean de autos \"nacionales\"."
   ]
  },
  {
   "cell_type": "code",
   "execution_count": 55,
   "metadata": {},
   "outputs": [
    {
     "name": "stdout",
     "output_type": "stream",
     "text": [
      "la probabilidad de que la primera venta sea por un comprador de menos de 40 años y la segunda venta sea por un comprador de entre 40 y 50 años y que no haya reposición es de: 0.16139240506329114 \n",
      "\n",
      "la probabilidad de que la primera venta sea coche nacional y la segunda venta también sea coche nacional, sin reposición es de: 0.39556962025316456\n"
     ]
    }
   ],
   "source": [
    "a = (df1.loc['Menos de 40', 'Total'] / df1.loc['Total', 'Total']) * (df1.loc['Entre 40 y 50', 'Total'] / (df1.loc['Total', 'Total'] - 1))\n",
    "print('la probabilidad de que la primera venta sea por un comprador de menos de 40 años y la segunda venta sea por un comprador de entre 40 y 50 años y que no haya reposición es de:', a, '\\n')\n",
    "\n",
    "b = (df1.loc['Total', 'Nacional'] / df1.loc['Total', 'Total']) * (df1.loc['Total', 'Nacional'] / (df1.loc['Total', 'Total'] - 1))\n",
    "print('la probabilidad de que la primera venta sea coche nacional y la segunda venta también sea coche nacional, sin reposición es de:', b)"
   ]
  },
  {
   "cell_type": "markdown",
   "metadata": {},
   "source": [
    "5. Si la selección de las dos ventas se realiza sin reposición. Hallar la probabilidad de que las ventas sean:\n",
    "\n",
    "Los sucesos son condicionales.\n",
    "\n",
    "a. De un comprador de “menos de 40 años” y de uno de \"entre 40 y 50 años\". Sin importar el orden."
   ]
  },
  {
   "cell_type": "code",
   "execution_count": 56,
   "metadata": {},
   "outputs": [
    {
     "data": {
      "text/plain": [
       "0.3227848101265823"
      ]
     },
     "execution_count": 56,
     "metadata": {},
     "output_type": "execute_result"
    }
   ],
   "source": [
    "a = ((df1.loc['Menos de 40', 'Total'] / df1.loc['Total', 'Total']) * (df1.loc['Entre 40 y 50', 'Total'] / (df1.loc['Total', 'Total'] - 1))) + (df1.loc['Entre 40 y 50', 'Total'] / (df1.loc['Total', 'Total']) * (df1.loc['Menos de 40', 'Total'] / (df1.loc['Total', 'Total'] - 1)))\n",
    "a"
   ]
  },
  {
   "cell_type": "markdown",
   "metadata": {},
   "source": [
    "6. Debido al aumento de los costos de los seguros, en un país 43 millones de personas, hay personas que no cuentan con un seguro médico.\n",
    "\n",
    "a. Con estos datos elabore una tabla de probabilidad conjunta y úsela para responder las preguntas restantes.\n",
    "\n",
    "b. ¿Qué indican las probabilidades marginales acerca de la edad de la población?\n",
    "\n",
    "c. ¿Cuál es la probabilidad de que una persona tomada en forma aleatoria no tenga seguro médico?\n",
    "\n",
    "d. Si la persona tiene entre 18 y 34 años, ¿cuál es la probabilidad de que no tenga seguro médico?\n",
    "\n",
    "e. Si la persona tiene 35 años o más ¿cuál es la probabilidad de que no tenga seguro médico?\n",
    "\n",
    "f. Si la persona no tiene seguro médico, ¿cuál es la probabilidad de que tenga entre 18 y 34 años?"
   ]
  },
  {
   "cell_type": "code",
   "execution_count": 4,
   "metadata": {},
   "outputs": [
    {
     "data": {
      "text/html": [
       "<div>\n",
       "<style scoped>\n",
       "    .dataframe tbody tr th:only-of-type {\n",
       "        vertical-align: middle;\n",
       "    }\n",
       "\n",
       "    .dataframe tbody tr th {\n",
       "        vertical-align: top;\n",
       "    }\n",
       "\n",
       "    .dataframe thead th {\n",
       "        text-align: right;\n",
       "    }\n",
       "</style>\n",
       "<table border=\"1\" class=\"dataframe\">\n",
       "  <thead>\n",
       "    <tr style=\"text-align: right;\">\n",
       "      <th></th>\n",
       "      <th>Si</th>\n",
       "      <th>No</th>\n",
       "      <th>Total</th>\n",
       "    </tr>\n",
       "  </thead>\n",
       "  <tbody>\n",
       "    <tr>\n",
       "      <th>18 a 34</th>\n",
       "      <td>750</td>\n",
       "      <td>170</td>\n",
       "      <td>920</td>\n",
       "    </tr>\n",
       "    <tr>\n",
       "      <th>35 o mayor</th>\n",
       "      <td>950</td>\n",
       "      <td>130</td>\n",
       "      <td>1080</td>\n",
       "    </tr>\n",
       "    <tr>\n",
       "      <th>Total</th>\n",
       "      <td>1700</td>\n",
       "      <td>300</td>\n",
       "      <td>2000</td>\n",
       "    </tr>\n",
       "  </tbody>\n",
       "</table>\n",
       "</div>"
      ],
      "text/plain": [
       "              Si   No  Total\n",
       "18 a 34      750  170    920\n",
       "35 o mayor   950  130   1080\n",
       "Total       1700  300   2000"
      ]
     },
     "execution_count": 4,
     "metadata": {},
     "output_type": "execute_result"
    }
   ],
   "source": [
    "dic3 ={\n",
    "    'Si' : [750, 950],\n",
    "    'No' : [170, 130],\n",
    "}\n",
    "\n",
    "indices2 = ['18 a 34', '35 o mayor']\n",
    "\n",
    "df3 = pd.DataFrame(dic3, index = indices2)\n",
    "\n",
    "totalFilas = df3.sum(axis = 1)\n",
    "\n",
    "df3['Total'] = totalFilas\n",
    "\n",
    "dic4 = {\n",
    "    'Si' : df3['Si'].sum(),\n",
    "    'No' : df3['No'].sum(),\n",
    "    'Total' : df3['Total'].sum()\n",
    "}\n",
    "\n",
    "df3.loc['Total'] = dic4\n",
    "\n",
    "df3"
   ]
  },
  {
   "cell_type": "code",
   "execution_count": 10,
   "metadata": {},
   "outputs": [
    {
     "data": {
      "text/html": [
       "<div>\n",
       "<style scoped>\n",
       "    .dataframe tbody tr th:only-of-type {\n",
       "        vertical-align: middle;\n",
       "    }\n",
       "\n",
       "    .dataframe tbody tr th {\n",
       "        vertical-align: top;\n",
       "    }\n",
       "\n",
       "    .dataframe thead th {\n",
       "        text-align: right;\n",
       "    }\n",
       "</style>\n",
       "<table border=\"1\" class=\"dataframe\">\n",
       "  <thead>\n",
       "    <tr style=\"text-align: right;\">\n",
       "      <th></th>\n",
       "      <th>Si</th>\n",
       "      <th>No</th>\n",
       "      <th>Total</th>\n",
       "    </tr>\n",
       "  </thead>\n",
       "  <tbody>\n",
       "    <tr>\n",
       "      <th>18 a 34</th>\n",
       "      <td>0.375</td>\n",
       "      <td>0.085</td>\n",
       "      <td>0.46</td>\n",
       "    </tr>\n",
       "    <tr>\n",
       "      <th>35 o mayor</th>\n",
       "      <td>0.475</td>\n",
       "      <td>0.065</td>\n",
       "      <td>0.54</td>\n",
       "    </tr>\n",
       "    <tr>\n",
       "      <th>Total</th>\n",
       "      <td>0.850</td>\n",
       "      <td>0.150</td>\n",
       "      <td>1.00</td>\n",
       "    </tr>\n",
       "  </tbody>\n",
       "</table>\n",
       "</div>"
      ],
      "text/plain": [
       "               Si     No  Total\n",
       "18 a 34     0.375  0.085   0.46\n",
       "35 o mayor  0.475  0.065   0.54\n",
       "Total       0.850  0.150   1.00"
      ]
     },
     "execution_count": 10,
     "metadata": {},
     "output_type": "execute_result"
    }
   ],
   "source": [
    "total = df3['Total'].max()\n",
    "\n",
    "df4 = df3.copy()\n",
    "\n",
    "df4['Si'] = df4['Si'] / total\n",
    "df4['No'] = df4['No'] / total\n",
    "df4['Total'] = df4['Total'] / total\n",
    "\n",
    "df4"
   ]
  },
  {
   "cell_type": "code",
   "execution_count": 12,
   "metadata": {},
   "outputs": [
    {
     "data": {
      "text/plain": [
       "0.15"
      ]
     },
     "execution_count": 12,
     "metadata": {},
     "output_type": "execute_result"
    }
   ],
   "source": [
    "c = df4.loc['Total', 'No']\n",
    "c"
   ]
  },
  {
   "cell_type": "code",
   "execution_count": 19,
   "metadata": {},
   "outputs": [
    {
     "data": {
      "text/plain": [
       "0.18478260869565216"
      ]
     },
     "execution_count": 19,
     "metadata": {},
     "output_type": "execute_result"
    }
   ],
   "source": [
    "d = df3.loc['18 a 34', 'No'] / df3.loc['18 a 34', 'Total']\n",
    "d "
   ]
  },
  {
   "cell_type": "code",
   "execution_count": 20,
   "metadata": {},
   "outputs": [
    {
     "data": {
      "text/plain": [
       "0.12037037037037036"
      ]
     },
     "execution_count": 20,
     "metadata": {},
     "output_type": "execute_result"
    }
   ],
   "source": [
    "e = df3.loc['35 o mayor', 'No'] / df3.loc['35 o mayor', 'Total']\n",
    "e"
   ]
  },
  {
   "cell_type": "code",
   "execution_count": 22,
   "metadata": {},
   "outputs": [
    {
     "data": {
      "text/plain": [
       "0.5666666666666667"
      ]
     },
     "execution_count": 22,
     "metadata": {},
     "output_type": "execute_result"
    }
   ],
   "source": [
    "f = df3.loc['18 a 34', 'No'] / df3.loc['Total', 'No']\n",
    "f"
   ]
  }
 ],
 "metadata": {
  "kernelspec": {
   "display_name": "prueba_entornos_virtuales",
   "language": "python",
   "name": "python3"
  },
  "language_info": {
   "codemirror_mode": {
    "name": "ipython",
    "version": 3
   },
   "file_extension": ".py",
   "mimetype": "text/x-python",
   "name": "python",
   "nbconvert_exporter": "python",
   "pygments_lexer": "ipython3",
   "version": "3.12.1"
  }
 },
 "nbformat": 4,
 "nbformat_minor": 2
}
