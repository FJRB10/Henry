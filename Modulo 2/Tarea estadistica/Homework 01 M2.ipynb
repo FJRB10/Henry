{
 "cells": [
  {
   "cell_type": "code",
   "execution_count": 107,
   "metadata": {},
   "outputs": [],
   "source": [
    "import numpy as np\n",
    "import matplotlib.pyplot as plt\n",
    "import pandas as pd"
   ]
  },
  {
   "cell_type": "markdown",
   "metadata": {},
   "source": [
    "Punto 1"
   ]
  },
  {
   "cell_type": "code",
   "execution_count": 8,
   "metadata": {},
   "outputs": [],
   "source": [
    "muestra = np.array( [[1.85, 1.8, 1.8 , 1.8],\n",
    "                    [1.73,  1.7, 1.75, 1.76],\n",
    "                    [ 1.65, 1.69,  1.67 ,  1.6],\n",
    "                    [1.54,  1.57, 1.58, 1.59],\n",
    "                    [ 1.4 , 1.42,  1.45, 1.48]]) "
   ]
  },
  {
   "cell_type": "code",
   "execution_count": 65,
   "metadata": {},
   "outputs": [
    {
     "name": "stdout",
     "output_type": "stream",
     "text": [
      "La media de la muestra es: 1.6415 \n",
      "\n",
      "La mediana de la muestra es: 1.66 \n",
      "\n",
      "Números unicos: [1.4  1.42 1.45 1.48 1.54 1.57 1.58 1.59 1.6  1.65 1.67 1.69 1.7  1.73\n",
      " 1.75 1.76 1.8  1.85] \n",
      "\n",
      "La moda de la muestra es: 1.8 \n",
      "\n",
      "La varianza de la muestra es: 0.017642750000000006 \n",
      "\n",
      "La desviación estandar de la muestra es: 0.13282601401833907 \n",
      "\n"
     ]
    }
   ],
   "source": [
    "#Media\n",
    "print(\"La media de la muestra es:\", muestra.mean(), '\\n')\n",
    "\n",
    "#Mediana\n",
    "print(\"La mediana de la muestra es:\", np.median(muestra), '\\n')\n",
    "\n",
    "#Moda\n",
    "valoresU, rep = np.unique(muestra, return_counts = True)\n",
    "print('Números unicos:', valoresU, '\\n')\n",
    "\n",
    "dic1 = dict(zip(valoresU, rep))\n",
    "\n",
    "maximo = 0\n",
    "\n",
    "for i in dic1:\n",
    "    if dic1[i] > maximo:\n",
    "        maximo = dic1[i]\n",
    "        moda = i\n",
    "\n",
    "print(\"La moda de la muestra es:\", moda, '\\n')\n",
    "\n",
    "#Varianza\n",
    "print(\"La varianza de la muestra es:\", np.var(muestra), '\\n')\n",
    "\n",
    "#Desvio estandar\n",
    "print(\"La desviación estandar de la muestra es:\", np.std(muestra), '\\n')"
   ]
  },
  {
   "cell_type": "markdown",
   "metadata": {},
   "source": [
    "Punto 2"
   ]
  },
  {
   "cell_type": "code",
   "execution_count": 83,
   "metadata": {},
   "outputs": [],
   "source": [
    "muestra2 = muestra.reshape(muestra.size)\n",
    "lista1 = muestra2.tolist()"
   ]
  },
  {
   "cell_type": "code",
   "execution_count": 106,
   "metadata": {},
   "outputs": [
    {
     "data": {
      "text/plain": [
       "(array([4., 2., 4., 5., 5.]),\n",
       " array([1.4 , 1.49, 1.58, 1.67, 1.76, 1.85]),\n",
       " <BarContainer object of 5 artists>)"
      ]
     },
     "execution_count": 106,
     "metadata": {},
     "output_type": "execute_result"
    },
    {
     "data": {
      "image/png": "[encoded data removed]",
      "text/plain": [
       "<Figure size 640x480 with 1 Axes>"
      ]
     },
     "metadata": {},
     "output_type": "display_data"
    }
   ],
   "source": [
    "plt.hist(lista1, 5, color = 'gold', rwidth = 0.9)"
   ]
  },
  {
   "cell_type": "markdown",
   "metadata": {},
   "source": [
    "La muestra tiene una distribución inclinada hacía los numeros mayores que en este caso son de 1.6  a 1.8."
   ]
  },
  {
   "cell_type": "markdown",
   "metadata": {},
   "source": [
    "Punto 3"
   ]
  },
  {
   "cell_type": "code",
   "execution_count": 114,
   "metadata": {},
   "outputs": [
    {
     "name": "stdout",
     "output_type": "stream",
     "text": [
      "      0     1     2     3     4\n",
      "0  1.85  1.73  1.65  1.54  1.40\n",
      "1  1.80  1.70  1.69  1.57  1.42\n",
      "2  1.80  1.75  1.67  1.58  1.45\n",
      "3  1.80  1.76  1.60  1.59  1.48\n"
     ]
    },
    {
     "data": {
      "text/html": [
       "<div>\n",
       "<style scoped>\n",
       "    .dataframe tbody tr th:only-of-type {\n",
       "        vertical-align: middle;\n",
       "    }\n",
       "\n",
       "    .dataframe tbody tr th {\n",
       "        vertical-align: top;\n",
       "    }\n",
       "\n",
       "    .dataframe thead th {\n",
       "        text-align: right;\n",
       "    }\n",
       "</style>\n",
       "<table border=\"1\" class=\"dataframe\">\n",
       "  <thead>\n",
       "    <tr style=\"text-align: right;\">\n",
       "      <th></th>\n",
       "      <th>0</th>\n",
       "      <th>1</th>\n",
       "      <th>2</th>\n",
       "      <th>3</th>\n",
       "      <th>4</th>\n",
       "    </tr>\n",
       "  </thead>\n",
       "  <tbody>\n",
       "    <tr>\n",
       "      <th>count</th>\n",
       "      <td>4.0000</td>\n",
       "      <td>4.000000</td>\n",
       "      <td>4.000000</td>\n",
       "      <td>4.000000</td>\n",
       "      <td>4.0000</td>\n",
       "    </tr>\n",
       "    <tr>\n",
       "      <th>mean</th>\n",
       "      <td>1.8125</td>\n",
       "      <td>1.735000</td>\n",
       "      <td>1.652500</td>\n",
       "      <td>1.570000</td>\n",
       "      <td>1.4375</td>\n",
       "    </tr>\n",
       "    <tr>\n",
       "      <th>std</th>\n",
       "      <td>0.0250</td>\n",
       "      <td>0.026458</td>\n",
       "      <td>0.038622</td>\n",
       "      <td>0.021602</td>\n",
       "      <td>0.0350</td>\n",
       "    </tr>\n",
       "    <tr>\n",
       "      <th>min</th>\n",
       "      <td>1.8000</td>\n",
       "      <td>1.700000</td>\n",
       "      <td>1.600000</td>\n",
       "      <td>1.540000</td>\n",
       "      <td>1.4000</td>\n",
       "    </tr>\n",
       "    <tr>\n",
       "      <th>25%</th>\n",
       "      <td>1.8000</td>\n",
       "      <td>1.722500</td>\n",
       "      <td>1.637500</td>\n",
       "      <td>1.562500</td>\n",
       "      <td>1.4150</td>\n",
       "    </tr>\n",
       "    <tr>\n",
       "      <th>50%</th>\n",
       "      <td>1.8000</td>\n",
       "      <td>1.740000</td>\n",
       "      <td>1.660000</td>\n",
       "      <td>1.575000</td>\n",
       "      <td>1.4350</td>\n",
       "    </tr>\n",
       "    <tr>\n",
       "      <th>75%</th>\n",
       "      <td>1.8125</td>\n",
       "      <td>1.752500</td>\n",
       "      <td>1.675000</td>\n",
       "      <td>1.582500</td>\n",
       "      <td>1.4575</td>\n",
       "    </tr>\n",
       "    <tr>\n",
       "      <th>max</th>\n",
       "      <td>1.8500</td>\n",
       "      <td>1.760000</td>\n",
       "      <td>1.690000</td>\n",
       "      <td>1.590000</td>\n",
       "      <td>1.4800</td>\n",
       "    </tr>\n",
       "  </tbody>\n",
       "</table>\n",
       "</div>"
      ],
      "text/plain": [
       "            0         1         2         3       4\n",
       "count  4.0000  4.000000  4.000000  4.000000  4.0000\n",
       "mean   1.8125  1.735000  1.652500  1.570000  1.4375\n",
       "std    0.0250  0.026458  0.038622  0.021602  0.0350\n",
       "min    1.8000  1.700000  1.600000  1.540000  1.4000\n",
       "25%    1.8000  1.722500  1.637500  1.562500  1.4150\n",
       "50%    1.8000  1.740000  1.660000  1.575000  1.4350\n",
       "75%    1.8125  1.752500  1.675000  1.582500  1.4575\n",
       "max    1.8500  1.760000  1.690000  1.590000  1.4800"
      ]
     },
     "execution_count": 114,
     "metadata": {},
     "output_type": "execute_result"
    }
   ],
   "source": [
    "df1 = pd.DataFrame(muestra.T)\n",
    "print(df1)\n",
    "df1.describe()"
   ]
  },
  {
   "cell_type": "markdown",
   "metadata": {},
   "source": [
    "Punto 4"
   ]
  },
  {
   "cell_type": "code",
   "execution_count": 115,
   "metadata": {},
   "outputs": [],
   "source": [
    "dic2 = {\n",
    "    'Ingreso en miles' : [10.5, 6.8, 20.7, 18.2, 8.6, 25.8, 22.2, 5.9, 7.6, 11.8],\n",
    "    'Año de estudio' : [17, 18, 21, 16, 16, 21, 16, 14, 18, 18]\n",
    "}"
   ]
  },
  {
   "cell_type": "code",
   "execution_count": 133,
   "metadata": {},
   "outputs": [
    {
     "name": "stdout",
     "output_type": "stream",
     "text": [
      "   Ingreso en miles  Año de estudio\n",
      "0              10.5              17\n",
      "1               6.8              18\n",
      "2              20.7              21\n",
      "3              18.2              16\n",
      "4               8.6              16\n",
      "5              25.8              21\n",
      "6              22.2              16\n",
      "7               5.9              14\n",
      "8               7.6              18\n",
      "9              11.8              18 \n",
      "\n",
      "[[10.5  6.8 20.7 18.2  8.6 25.8 22.2  5.9  7.6 11.8]\n",
      " [17.  18.  21.  16.  16.  21.  16.  14.  18.  18. ]]\n"
     ]
    }
   ],
   "source": [
    "df2 = pd.DataFrame(dic2)\n",
    "mat1 = np.array([dic2['Ingreso en miles'], dic2['Año de estudio']])\n",
    "\n",
    "print(df2, '\\n')\n",
    "print(mat1)"
   ]
  },
  {
   "cell_type": "code",
   "execution_count": 134,
   "metadata": {},
   "outputs": [
    {
     "data": {
      "text/html": [
       "<div>\n",
       "<style scoped>\n",
       "    .dataframe tbody tr th:only-of-type {\n",
       "        vertical-align: middle;\n",
       "    }\n",
       "\n",
       "    .dataframe tbody tr th {\n",
       "        vertical-align: top;\n",
       "    }\n",
       "\n",
       "    .dataframe thead th {\n",
       "        text-align: right;\n",
       "    }\n",
       "</style>\n",
       "<table border=\"1\" class=\"dataframe\">\n",
       "  <thead>\n",
       "    <tr style=\"text-align: right;\">\n",
       "      <th></th>\n",
       "      <th>Ingreso en miles</th>\n",
       "      <th>Año de estudio</th>\n",
       "    </tr>\n",
       "  </thead>\n",
       "  <tbody>\n",
       "    <tr>\n",
       "      <th>count</th>\n",
       "      <td>10.000000</td>\n",
       "      <td>10.000000</td>\n",
       "    </tr>\n",
       "    <tr>\n",
       "      <th>mean</th>\n",
       "      <td>13.810000</td>\n",
       "      <td>17.500000</td>\n",
       "    </tr>\n",
       "    <tr>\n",
       "      <th>std</th>\n",
       "      <td>7.251889</td>\n",
       "      <td>2.223611</td>\n",
       "    </tr>\n",
       "    <tr>\n",
       "      <th>min</th>\n",
       "      <td>5.900000</td>\n",
       "      <td>14.000000</td>\n",
       "    </tr>\n",
       "    <tr>\n",
       "      <th>25%</th>\n",
       "      <td>7.850000</td>\n",
       "      <td>16.000000</td>\n",
       "    </tr>\n",
       "    <tr>\n",
       "      <th>50%</th>\n",
       "      <td>11.150000</td>\n",
       "      <td>17.500000</td>\n",
       "    </tr>\n",
       "    <tr>\n",
       "      <th>75%</th>\n",
       "      <td>20.075000</td>\n",
       "      <td>18.000000</td>\n",
       "    </tr>\n",
       "    <tr>\n",
       "      <th>max</th>\n",
       "      <td>25.800000</td>\n",
       "      <td>21.000000</td>\n",
       "    </tr>\n",
       "  </tbody>\n",
       "</table>\n",
       "</div>"
      ],
      "text/plain": [
       "       Ingreso en miles  Año de estudio\n",
       "count         10.000000       10.000000\n",
       "mean          13.810000       17.500000\n",
       "std            7.251889        2.223611\n",
       "min            5.900000       14.000000\n",
       "25%            7.850000       16.000000\n",
       "50%           11.150000       17.500000\n",
       "75%           20.075000       18.000000\n",
       "max           25.800000       21.000000"
      ]
     },
     "execution_count": 134,
     "metadata": {},
     "output_type": "execute_result"
    }
   ],
   "source": [
    "df2.describe()"
   ]
  },
  {
   "cell_type": "markdown",
   "metadata": {},
   "source": [
    "Punto 5"
   ]
  },
  {
   "cell_type": "code",
   "execution_count": 136,
   "metadata": {},
   "outputs": [
    {
     "data": {
      "text/plain": [
       "Text(0, 0.5, 'cantidad')"
      ]
     },
     "execution_count": 136,
     "metadata": {},
     "output_type": "execute_result"
    },
    {
     "data": {
      "image/png": "[encoded data removed]",
      "text/plain": [
       "<Figure size 640x480 with 1 Axes>"
      ]
     },
     "metadata": {},
     "output_type": "display_data"
    }
   ],
   "source": [
    "plt.hist(dic2['Ingreso en miles'], 6, color = 'gold', rwidth = 0.9)\n",
    "plt.title('Grafica sobre ingreso en miles')\n",
    "plt.xlabel('Ingreso en miles')\n",
    "plt.ylabel('cantidad')"
   ]
  },
  {
   "cell_type": "code",
   "execution_count": 138,
   "metadata": {},
   "outputs": [
    {
     "data": {
      "text/plain": [
       "Text(0, 0.5, 'cantidad')"
      ]
     },
     "execution_count": 138,
     "metadata": {},
     "output_type": "execute_result"
    },
    {
     "data": {
      "image/png": "[encoded data removed]",
      "text/plain": [
       "<Figure size 640x480 with 1 Axes>"
      ]
     },
     "metadata": {},
     "output_type": "display_data"
    }
   ],
   "source": [
    "plt.hist(mat1[1], 6, color = 'gold', rwidth = 0.9)\n",
    "plt.title('Grafica sobre los años de estudio')\n",
    "plt.xlabel('Años de estudio')\n",
    "plt.ylabel('cantidad')"
   ]
  },
  {
   "cell_type": "markdown",
   "metadata": {},
   "source": [
    "Punto 6"
   ]
  },
  {
   "cell_type": "code",
   "execution_count": 141,
   "metadata": {},
   "outputs": [
    {
     "name": "stdout",
     "output_type": "stream",
     "text": [
      "La media de los ingresos en miles es de: 13.809999999999999\n"
     ]
    }
   ],
   "source": [
    "print('La media de los ingresos en miles es de:', df2['Ingreso en miles'].mean())"
   ]
  },
  {
   "cell_type": "markdown",
   "metadata": {},
   "source": [
    "Punto 7"
   ]
  },
  {
   "cell_type": "code",
   "execution_count": 143,
   "metadata": {},
   "outputs": [
    {
     "name": "stdout",
     "output_type": "stream",
     "text": [
      "La media de los ingresos en miles es de: 13.809999999999999\n"
     ]
    }
   ],
   "source": [
    "print('La media de los ingresos en miles es de:', mat1[0].mean())"
   ]
  },
  {
   "cell_type": "markdown",
   "metadata": {},
   "source": [
    "Punto 8"
   ]
  },
  {
   "cell_type": "code",
   "execution_count": 148,
   "metadata": {},
   "outputs": [
    {
     "data": {
      "text/html": [
       "<div>\n",
       "<style scoped>\n",
       "    .dataframe tbody tr th:only-of-type {\n",
       "        vertical-align: middle;\n",
       "    }\n",
       "\n",
       "    .dataframe tbody tr th {\n",
       "        vertical-align: top;\n",
       "    }\n",
       "\n",
       "    .dataframe thead th {\n",
       "        text-align: right;\n",
       "    }\n",
       "</style>\n",
       "<table border=\"1\" class=\"dataframe\">\n",
       "  <thead>\n",
       "    <tr style=\"text-align: right;\">\n",
       "      <th></th>\n",
       "      <th>Ingreso en miles</th>\n",
       "      <th>Año de estudio</th>\n",
       "    </tr>\n",
       "  </thead>\n",
       "  <tbody>\n",
       "    <tr>\n",
       "      <th>count</th>\n",
       "      <td>12.000000</td>\n",
       "      <td>12.000000</td>\n",
       "    </tr>\n",
       "    <tr>\n",
       "      <th>mean</th>\n",
       "      <td>25.675000</td>\n",
       "      <td>20.000000</td>\n",
       "    </tr>\n",
       "    <tr>\n",
       "      <th>std</th>\n",
       "      <td>32.150219</td>\n",
       "      <td>6.266796</td>\n",
       "    </tr>\n",
       "    <tr>\n",
       "      <th>min</th>\n",
       "      <td>5.900000</td>\n",
       "      <td>14.000000</td>\n",
       "    </tr>\n",
       "    <tr>\n",
       "      <th>25%</th>\n",
       "      <td>8.350000</td>\n",
       "      <td>16.000000</td>\n",
       "    </tr>\n",
       "    <tr>\n",
       "      <th>50%</th>\n",
       "      <td>15.000000</td>\n",
       "      <td>18.000000</td>\n",
       "    </tr>\n",
       "    <tr>\n",
       "      <th>75%</th>\n",
       "      <td>23.100000</td>\n",
       "      <td>21.000000</td>\n",
       "    </tr>\n",
       "    <tr>\n",
       "      <th>max</th>\n",
       "      <td>120.000000</td>\n",
       "      <td>35.000000</td>\n",
       "    </tr>\n",
       "  </tbody>\n",
       "</table>\n",
       "</div>"
      ],
      "text/plain": [
       "       Ingreso en miles  Año de estudio\n",
       "count         12.000000       12.000000\n",
       "mean          25.675000       20.000000\n",
       "std           32.150219        6.266796\n",
       "min            5.900000       14.000000\n",
       "25%            8.350000       16.000000\n",
       "50%           15.000000       18.000000\n",
       "75%           23.100000       21.000000\n",
       "max          120.000000       35.000000"
      ]
     },
     "execution_count": 148,
     "metadata": {},
     "output_type": "execute_result"
    }
   ],
   "source": [
    "df2.loc[10] = [50, 35]\n",
    "df2.loc[11] = [120, 30]\n",
    "df2.describe()"
   ]
  }
 ],
 "metadata": {
  "kernelspec": {
   "display_name": "prueba_entornos_virtuales",
   "language": "python",
   "name": "python3"
  },
  "language_info": {
   "codemirror_mode": {
    "name": "ipython",
    "version": 3
   },
   "file_extension": ".py",
   "mimetype": "text/x-python",
   "name": "python",
   "nbconvert_exporter": "python",
   "pygments_lexer": "ipython3",
   "version": "3.12.1"
  }
 },
 "nbformat": 4,
 "nbformat_minor": 2
}
