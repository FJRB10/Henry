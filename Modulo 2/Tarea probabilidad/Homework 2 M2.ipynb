{
 "cells": [
  {
   "cell_type": "code",
   "execution_count": 14,
   "metadata": {},
   "outputs": [],
   "source": [
    "import numpy as np\n",
    "import math"
   ]
  },
  {
   "cell_type": "markdown",
   "metadata": {},
   "source": [
    "Punto 1"
   ]
  },
  {
   "cell_type": "code",
   "execution_count": 2,
   "metadata": {},
   "outputs": [
    {
     "name": "stdout",
     "output_type": "stream",
     "text": [
      "Resultados del experimento: ['Cara' 'Cruz' 'Cruz' 'Cruz' 'Cara' 'Cara' 'Cara' 'Cruz' 'Cruz' 'Cara'] \n",
      " Espacio muetsral: ['Cara' 'Cruz']\n"
     ]
    }
   ],
   "source": [
    "moneda = ['Cara', 'Cruz']\n",
    "\n",
    "experimento = np.random.choice(moneda,10)\n",
    "\n",
    "espacioMuestral = np.unique(experimento)\n",
    "\n",
    "print('Resultados del experimento:', experimento, '\\n', 'Espacio muetsral:', espacioMuestral)"
   ]
  },
  {
   "cell_type": "markdown",
   "metadata": {},
   "source": [
    "Punto 2"
   ]
  },
  {
   "cell_type": "code",
   "execution_count": 12,
   "metadata": {},
   "outputs": [
    {
     "name": "stdout",
     "output_type": "stream",
     "text": [
      "El número de combinaciones que tienen los agentes para sacar a las 10 personas en grupos de 3 es de: 120\n"
     ]
    }
   ],
   "source": [
    "listaPrueba = []\n",
    "\n",
    "for i in range(1,9):\n",
    "    for j in range(i+1,10):\n",
    "        for k in range(j+1, 11):\n",
    "            listaProv = []\n",
    "            listaProv.append(i)\n",
    "            listaProv.append(j)\n",
    "            listaProv.append(k)\n",
    "            listaPrueba.append(listaProv)\n",
    "\n",
    "print('El número de combinaciones que tienen los agentes para sacar a las 10 personas en grupos de 3 es de:', len(listaPrueba))"
   ]
  },
  {
   "cell_type": "code",
   "execution_count": 17,
   "metadata": {},
   "outputs": [],
   "source": [
    "def combinatoria(n:int, r:int) -> int:\n",
    "    comb =  int(math.factorial(n) / (math.factorial(n-r) * math.factorial(r)))\n",
    "    return comb"
   ]
  },
  {
   "cell_type": "code",
   "execution_count": 18,
   "metadata": {},
   "outputs": [
    {
     "data": {
      "text/plain": [
       "120"
      ]
     },
     "execution_count": 18,
     "metadata": {},
     "output_type": "execute_result"
    }
   ],
   "source": [
    "combinatoria(10,3)"
   ]
  },
  {
   "cell_type": "markdown",
   "metadata": {},
   "source": [
    "Punto 3"
   ]
  },
  {
   "cell_type": "code",
   "execution_count": null,
   "metadata": {},
   "outputs": [],
   "source": []
  },
  {
   "cell_type": "markdown",
   "metadata": {},
   "source": [
    "Punto 4"
   ]
  },
  {
   "cell_type": "code",
   "execution_count": 20,
   "metadata": {},
   "outputs": [],
   "source": [
    "picas = [x for x in range(1,14)]\n",
    "corazones = [x for x in range(1,14)]\n",
    "treboles = [x for x in range(1,14)]\n",
    "diamantes = [x for x in range(1,14)]\n"
   ]
  },
  {
   "cell_type": "code",
   "execution_count": 32,
   "metadata": {},
   "outputs": [],
   "source": [
    "def probabilidadCartas(color:str = 'ninguno', palo:str = 'ninguno') -> float:\n",
    "    cartasTotales = 52\n",
    "    cartasColor = 26\n",
    "    cartasPalo = 13\n",
    "    \n",
    "    if (color == 'rojo') | (color == 'negro'):\n",
    "        return cartasColor / cartasTotales\n",
    "    elif (palo == 'picas') | (palo == 'corazones') | (palo == 'treboles') | (palo == 'diamantes'):\n",
    "        return cartasPalo / cartasTotales\n",
    "    else:\n",
    "        print('Ingrese un color valido (rojo o negro) o ingrese un tipo de palo valido (picas, corazones, treboles, diamantes)')\n"
   ]
  },
  {
   "cell_type": "code",
   "execution_count": 34,
   "metadata": {},
   "outputs": [
    {
     "data": {
      "text/plain": [
       "0.25"
      ]
     },
     "execution_count": 34,
     "metadata": {},
     "output_type": "execute_result"
    }
   ],
   "source": [
    "probabilidadCartas(_ ,'picas')"
   ]
  },
  {
   "cell_type": "markdown",
   "metadata": {},
   "source": [
    "Punto 5"
   ]
  },
  {
   "cell_type": "code",
   "execution_count": 37,
   "metadata": {},
   "outputs": [
    {
     "name": "stdout",
     "output_type": "stream",
     "text": [
      "La probabilidad de sacar un 7 u 8 de un mazo de 52 cartas de poker es de: 15.384615384615385%\n"
     ]
    }
   ],
   "source": [
    "totalCartas = 52\n",
    "sieteUocho = 8\n",
    "\n",
    "probabilidad1 = sieteUocho / totalCartas\n",
    "\n",
    "print('La probabilidad de sacar un 7 u 8 de un mazo de 52 cartas de poker es de:', f'{probabilidad1*100}%')"
   ]
  },
  {
   "cell_type": "markdown",
   "metadata": {},
   "source": [
    "Punto 6"
   ]
  },
  {
   "cell_type": "code",
   "execution_count": 40,
   "metadata": {},
   "outputs": [
    {
     "name": "stdout",
     "output_type": "stream",
     "text": [
      "3.125%\n"
     ]
    }
   ],
   "source": [
    "totalPaises = 32\n",
    "colombia = 1\n",
    "\n",
    "probabilidad2 = colombia / totalPaises\n",
    "\n",
    "print(f'{probabilidad2*100}%')"
   ]
  },
  {
   "cell_type": "markdown",
   "metadata": {},
   "source": [
    "Punto 7"
   ]
  },
  {
   "cell_type": "code",
   "execution_count": 44,
   "metadata": {},
   "outputs": [
    {
     "data": {
      "text/plain": [
       "array(['E3', 'E3', 'E3', 'E3', 'E3', 'E3', 'E3', 'E3', 'E3', 'E3', 'E3'],\n",
       "      dtype='<U2')"
      ]
     },
     "execution_count": 44,
     "metadata": {},
     "output_type": "execute_result"
    }
   ],
   "source": [
    "probE1 = 20/50\n",
    "probE2 = 13/50\n",
    "probE3 = 17/50\n",
    "\n",
    "lista1 = ['E1', 'E2', 'E3']\n",
    "\n",
    "experimento = np.random.choice(lista1, 50, p = [probE1, probE2, probE3])\n",
    "\n",
    "experimento[experimento == 'E3']"
   ]
  },
  {
   "cell_type": "markdown",
   "metadata": {},
   "source": [
    "Desafios complementarios"
   ]
  },
  {
   "cell_type": "markdown",
   "metadata": {},
   "source": [
    "Punto 1"
   ]
  },
  {
   "cell_type": "code",
   "execution_count": 46,
   "metadata": {},
   "outputs": [
    {
     "name": "stdout",
     "output_type": "stream",
     "text": [
      "La probabilidad de que el primer cliente pague con efectivo y que el segundo pague con tarjeta de credito es de 18.666666666666668%\n",
      "La probabilidad de que el primer cliente pague con efectivo y que el segundo también pague con efectivo es de 16.000000000000004%\n"
     ]
    }
   ],
   "source": [
    "pagoE = 6/15\n",
    "pagoTC = 7/15\n",
    "pagoTD = 2/15\n",
    "\n",
    "# El primero en efectivo y el segundo con tarjeta de crédito.\n",
    "probabilidad3 = pagoE * pagoTC\n",
    "print('La probabilidad de que el primer cliente pague con efectivo y que el segundo pague con tarjeta de credito es de', f'{probabilidad3*100}%')\n",
    "\n",
    "# Los dos clientes en efectivo\n",
    "probabilidad4 = pagoE * pagoE\n",
    "print('La probabilidad de que el primer cliente pague con efectivo y que el segundo también pague con efectivo es de', f'{probabilidad4*100}%')"
   ]
  }
 ],
 "metadata": {
  "kernelspec": {
   "display_name": "prueba_entornos_virtuales",
   "language": "python",
   "name": "python3"
  },
  "language_info": {
   "codemirror_mode": {
    "name": "ipython",
    "version": 3
   },
   "file_extension": ".py",
   "mimetype": "text/x-python",
   "name": "python",
   "nbconvert_exporter": "python",
   "pygments_lexer": "ipython3",
   "version": "3.12.1"
  }
 },
 "nbformat": 4,
 "nbformat_minor": 2
}
