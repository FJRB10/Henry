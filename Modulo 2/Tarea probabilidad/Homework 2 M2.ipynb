{
 "cells": [
  {
   "cell_type": "code",
   "execution_count": 9,
   "metadata": {},
   "outputs": [],
   "source": [
    "import numpy as np\n",
    "import pandas as pd\n",
    "import math"
   ]
  },
  {
   "cell_type": "markdown",
   "metadata": {},
   "source": [
    "Punto 1"
   ]
  },
  {
   "cell_type": "code",
   "execution_count": 2,
   "metadata": {},
   "outputs": [
    {
     "name": "stdout",
     "output_type": "stream",
     "text": [
      "Resultados del experimento: ['Cara' 'Cruz' 'Cruz' 'Cruz' 'Cara' 'Cara' 'Cara' 'Cruz' 'Cruz' 'Cara'] \n",
      " Espacio muetsral: ['Cara' 'Cruz']\n"
     ]
    }
   ],
   "source": [
    "moneda = ['Cara', 'Cruz']\n",
    "\n",
    "experimento = np.random.choice(moneda,10)\n",
    "\n",
    "espacioMuestral = np.unique(experimento)\n",
    "\n",
    "print('Resultados del experimento:', experimento, '\\n', 'Espacio muetsral:', espacioMuestral)"
   ]
  },
  {
   "cell_type": "markdown",
   "metadata": {},
   "source": [
    "Punto 2"
   ]
  },
  {
   "cell_type": "code",
   "execution_count": 12,
   "metadata": {},
   "outputs": [
    {
     "name": "stdout",
     "output_type": "stream",
     "text": [
      "El número de combinaciones que tienen los agentes para sacar a las 10 personas en grupos de 3 es de: 120\n"
     ]
    }
   ],
   "source": [
    "listaPrueba = []\n",
    "\n",
    "for i in range(1,9):\n",
    "    for j in range(i+1,10):\n",
    "        for k in range(j+1, 11):\n",
    "            listaProv = []\n",
    "            listaProv.append(i)\n",
    "            listaProv.append(j)\n",
    "            listaProv.append(k)\n",
    "            listaPrueba.append(listaProv)\n",
    "\n",
    "print('El número de combinaciones que tienen los agentes para sacar a las 10 personas en grupos de 3 es de:', len(listaPrueba))"
   ]
  },
  {
   "cell_type": "code",
   "execution_count": 17,
   "metadata": {},
   "outputs": [],
   "source": [
    "def combinatoria(n:int, r:int) -> int:\n",
    "    comb =  int(math.factorial(n) / (math.factorial(n-r) * math.factorial(r)))\n",
    "    return comb"
   ]
  },
  {
   "cell_type": "code",
   "execution_count": 18,
   "metadata": {},
   "outputs": [
    {
     "data": {
      "text/plain": [
       "120"
      ]
     },
     "execution_count": 18,
     "metadata": {},
     "output_type": "execute_result"
    }
   ],
   "source": [
    "combinatoria(10,3)"
   ]
  },
  {
   "cell_type": "markdown",
   "metadata": {},
   "source": [
    "Punto 3"
   ]
  },
  {
   "cell_type": "markdown",
   "metadata": {},
   "source": [
    "A) ¿Qué metodo cree que se utilizo para asignar probabilidades?."
   ]
  },
  {
   "cell_type": "code",
   "execution_count": 6,
   "metadata": {},
   "outputs": [
    {
     "name": "stdout",
     "output_type": "stream",
     "text": [
      "Probabilidad de que si utilizan el cinturon dependiendo de la zona: [0.13627992633517497, 0.14917127071823205, 0.27255985267034993, 0.23204419889502761] \n",
      "\n",
      "Probabilidad de que no utilizan el cinturon dependiendo de la zona: [0.04788213627992634, 0.049723756906077346, 0.06813996316758748, 0.04419889502762431] \n",
      "\n",
      "Probabilidad de que si se utiliza el cinturon en la ciudad: 0.7900552486187845 \n",
      "\n",
      "Probabilidad de que no se utiliza el cinturon en la ciudad: 0.20994475138121546 \n",
      "\n"
     ]
    }
   ],
   "source": [
    "cinturonSi = [148, 162, 296, 252]\n",
    "cinturonNo = [52, 54, 74, 48]\n",
    "\n",
    "arrSi = np.array(cinturonSi)\n",
    "arrNo = np.array(cinturonNo)\n",
    "\n",
    "total = arrSi.sum() + arrNo.sum()\n",
    "\n",
    "probabilidadesSi = []\n",
    "probabilidadesNo = []\n",
    "\n",
    "for i in range(len(cinturonSi)):\n",
    "    probabilidadesSi.append(cinturonSi[i] / total)\n",
    "    probabilidadesNo.append(cinturonNo[i] / total)\n",
    "\n",
    "print('Probabilidad de que si utilizan el cinturon dependiendo de la zona:', probabilidadesSi, '\\n')\n",
    "print('Probabilidad de que no utilizan el cinturon dependiendo de la zona:', probabilidadesNo, '\\n')\n",
    "print('Probabilidad de que si se utiliza el cinturon en la ciudad:', arrSi.sum() / total, '\\n')\n",
    "print('Probabilidad de que no se utiliza el cinturon en la ciudad:', arrNo.sum() / total, '\\n')"
   ]
  },
  {
   "cell_type": "markdown",
   "metadata": {},
   "source": [
    "B) Construya un cuadro similar, pero con la asignación de probabilidades."
   ]
  },
  {
   "cell_type": "code",
   "execution_count": 49,
   "metadata": {},
   "outputs": [
    {
     "data": {
      "text/html": [
       "<div>\n",
       "<style scoped>\n",
       "    .dataframe tbody tr th:only-of-type {\n",
       "        vertical-align: middle;\n",
       "    }\n",
       "\n",
       "    .dataframe tbody tr th {\n",
       "        vertical-align: top;\n",
       "    }\n",
       "\n",
       "    .dataframe thead th {\n",
       "        text-align: right;\n",
       "    }\n",
       "</style>\n",
       "<table border=\"1\" class=\"dataframe\">\n",
       "  <thead>\n",
       "    <tr style=\"text-align: right;\">\n",
       "      <th></th>\n",
       "      <th>Si</th>\n",
       "      <th>No</th>\n",
       "      <th>Total</th>\n",
       "    </tr>\n",
       "  </thead>\n",
       "  <tbody>\n",
       "    <tr>\n",
       "      <th>Norte</th>\n",
       "      <td>0.136280</td>\n",
       "      <td>0.047882</td>\n",
       "      <td>0.184162</td>\n",
       "    </tr>\n",
       "    <tr>\n",
       "      <th>Noreste</th>\n",
       "      <td>0.149171</td>\n",
       "      <td>0.049724</td>\n",
       "      <td>0.198895</td>\n",
       "    </tr>\n",
       "    <tr>\n",
       "      <th>Sur</th>\n",
       "      <td>0.272560</td>\n",
       "      <td>0.068140</td>\n",
       "      <td>0.340700</td>\n",
       "    </tr>\n",
       "    <tr>\n",
       "      <th>Centro</th>\n",
       "      <td>0.232044</td>\n",
       "      <td>0.044199</td>\n",
       "      <td>0.276243</td>\n",
       "    </tr>\n",
       "    <tr>\n",
       "      <th>Total</th>\n",
       "      <td>0.790055</td>\n",
       "      <td>0.209945</td>\n",
       "      <td>1.000000</td>\n",
       "    </tr>\n",
       "  </tbody>\n",
       "</table>\n",
       "</div>"
      ],
      "text/plain": [
       "               Si        No     Total\n",
       "Norte    0.136280  0.047882  0.184162\n",
       "Noreste  0.149171  0.049724  0.198895\n",
       "Sur      0.272560  0.068140  0.340700\n",
       "Centro   0.232044  0.044199  0.276243\n",
       "Total    0.790055  0.209945  1.000000"
      ]
     },
     "execution_count": 49,
     "metadata": {},
     "output_type": "execute_result"
    }
   ],
   "source": [
    "regiones = ['Norte', 'Noreste', 'Sur', 'Centro']\n",
    "dic1 = {\n",
    "    'Si' : probabilidadesSi,\n",
    "    'No' : probabilidadesNo\n",
    "}\n",
    "\n",
    "cuadro = pd.DataFrame(dic1, index = regiones)\n",
    "\n",
    "total2 = pd.Series(cuadro.sum(axis = 1))\n",
    "\n",
    "cuadro['Total'] = total2\n",
    "\n",
    "dic2 = {\n",
    "    'Si' : cuadro['Si'].sum(axis = 0),\n",
    "    'No' : cuadro['No'].sum(axis = 0),\n",
    "    'Total' : cuadro['Total'].sum(axis = 0)\n",
    "}\n",
    "\n",
    "cuadro.loc['Total'] = dic2\n",
    "cuadro"
   ]
  },
  {
   "cell_type": "markdown",
   "metadata": {},
   "source": [
    "Punto 4"
   ]
  },
  {
   "cell_type": "code",
   "execution_count": 32,
   "metadata": {},
   "outputs": [],
   "source": [
    "def probabilidadCartas(color:str = 'ninguno', palo:str = 'ninguno') -> float:\n",
    "    cartasTotales = 52\n",
    "    cartasColor = 26\n",
    "    cartasPalo = 13\n",
    "    \n",
    "    if (color == 'rojo') | (color == 'negro'):\n",
    "        return cartasColor / cartasTotales\n",
    "    elif (palo == 'picas') | (palo == 'corazones') | (palo == 'treboles') | (palo == 'diamantes'):\n",
    "        return cartasPalo / cartasTotales\n",
    "    else:\n",
    "        print('Ingrese un color valido (rojo o negro) o ingrese un tipo de palo valido (picas, corazones, treboles, diamantes)')\n"
   ]
  },
  {
   "cell_type": "code",
   "execution_count": 34,
   "metadata": {},
   "outputs": [
    {
     "data": {
      "text/plain": [
       "0.25"
      ]
     },
     "execution_count": 34,
     "metadata": {},
     "output_type": "execute_result"
    }
   ],
   "source": [
    "probabilidadCartas(_ ,'picas')"
   ]
  },
  {
   "cell_type": "markdown",
   "metadata": {},
   "source": [
    "Punto 5"
   ]
  },
  {
   "cell_type": "code",
   "execution_count": 37,
   "metadata": {},
   "outputs": [
    {
     "name": "stdout",
     "output_type": "stream",
     "text": [
      "La probabilidad de sacar un 7 u 8 de un mazo de 52 cartas de poker es de: 15.384615384615385%\n"
     ]
    }
   ],
   "source": [
    "totalCartas = 52\n",
    "sieteUocho = 8\n",
    "\n",
    "probabilidad1 = sieteUocho / totalCartas\n",
    "\n",
    "print('La probabilidad de sacar un 7 u 8 de un mazo de 52 cartas de poker es de:', f'{probabilidad1*100}%')"
   ]
  },
  {
   "cell_type": "markdown",
   "metadata": {},
   "source": [
    "Punto 6"
   ]
  },
  {
   "cell_type": "code",
   "execution_count": 40,
   "metadata": {},
   "outputs": [
    {
     "name": "stdout",
     "output_type": "stream",
     "text": [
      "3.125%\n"
     ]
    }
   ],
   "source": [
    "totalPaises = 32\n",
    "colombia = 1\n",
    "\n",
    "probabilidad2 = colombia / totalPaises\n",
    "\n",
    "print(f'{probabilidad2*100}%')"
   ]
  },
  {
   "cell_type": "markdown",
   "metadata": {},
   "source": [
    "Punto 7"
   ]
  },
  {
   "cell_type": "code",
   "execution_count": 44,
   "metadata": {},
   "outputs": [
    {
     "data": {
      "text/plain": [
       "array(['E3', 'E3', 'E3', 'E3', 'E3', 'E3', 'E3', 'E3', 'E3', 'E3', 'E3'],\n",
       "      dtype='<U2')"
      ]
     },
     "execution_count": 44,
     "metadata": {},
     "output_type": "execute_result"
    }
   ],
   "source": [
    "probE1 = 20/50\n",
    "probE2 = 13/50\n",
    "probE3 = 17/50\n",
    "\n",
    "lista1 = ['E1', 'E2', 'E3']\n",
    "\n",
    "experimento = np.random.choice(lista1, 50, p = [probE1, probE2, probE3])\n",
    "\n",
    "experimento[experimento == 'E3']"
   ]
  },
  {
   "cell_type": "markdown",
   "metadata": {},
   "source": [
    "Desafios complementarios"
   ]
  },
  {
   "cell_type": "markdown",
   "metadata": {},
   "source": [
    "Punto 1"
   ]
  },
  {
   "cell_type": "code",
   "execution_count": 46,
   "metadata": {},
   "outputs": [
    {
     "name": "stdout",
     "output_type": "stream",
     "text": [
      "La probabilidad de que el primer cliente pague con efectivo y que el segundo pague con tarjeta de credito es de 18.666666666666668%\n",
      "La probabilidad de que el primer cliente pague con efectivo y que el segundo también pague con efectivo es de 16.000000000000004%\n"
     ]
    }
   ],
   "source": [
    "pagoE = 6/15\n",
    "pagoTC = 7/15\n",
    "pagoTD = 2/15\n",
    "\n",
    "# El primero en efectivo y el segundo con tarjeta de crédito.\n",
    "probabilidad3 = pagoE * pagoTC\n",
    "print('La probabilidad de que el primer cliente pague con efectivo y que el segundo pague con tarjeta de credito es de', f'{probabilidad3*100}%')\n",
    "\n",
    "# Los dos clientes en efectivo\n",
    "probabilidad4 = pagoE * pagoE\n",
    "print('La probabilidad de que el primer cliente pague con efectivo y que el segundo también pague con efectivo es de', f'{probabilidad4*100}%')"
   ]
  },
  {
   "cell_type": "markdown",
   "metadata": {},
   "source": [
    "Punto 2"
   ]
  },
  {
   "cell_type": "markdown",
   "metadata": {},
   "source": [
    "A) Apruebe un módulo."
   ]
  },
  {
   "cell_type": "code",
   "execution_count": 51,
   "metadata": {},
   "outputs": [
    {
     "name": "stdout",
     "output_type": "stream",
     "text": [
      "La probabilidad de aprobar un modulo es de: 0.7199999999999995\n"
     ]
    }
   ],
   "source": [
    "aprobarM1 = 0.2\n",
    "aprobarM2 = 0.5\n",
    "aprobarM3 = 0.6\n",
    "\n",
    "reprobarM1 = 0.8\n",
    "reprobarM2 = 0.5\n",
    "reprobarM3 = 0.4\n",
    "\n",
    "aprobarUnModulo = (aprobarM1 + aprobarM2 + aprobarM3) - (aprobarM1 * aprobarM2 * aprobarM3) - (aprobarM1 * aprobarM2) -(aprobarM1 * aprobarM3) - (aprobarM2 * aprobarM3)\n",
    "print('La probabilidad de aprobar un modulo es de:', aprobarUnModulo)"
   ]
  },
  {
   "cell_type": "markdown",
   "metadata": {},
   "source": [
    "B) Repruebe las tres materias."
   ]
  },
  {
   "cell_type": "code",
   "execution_count": 52,
   "metadata": {},
   "outputs": [
    {
     "name": "stdout",
     "output_type": "stream",
     "text": [
      "La probabilidad de reprobar lso tres modulos es de: 0.16000000000000003\n"
     ]
    }
   ],
   "source": [
    "reprobarTodo = reprobarM1 * reprobarM2 * reprobarM3\n",
    "print('La probabilidad de reprobar lso tres modulos es de:', reprobarTodo)"
   ]
  }
 ],
 "metadata": {
  "kernelspec": {
   "display_name": "prueba_entornos_virtuales",
   "language": "python",
   "name": "python3"
  },
  "language_info": {
   "codemirror_mode": {
    "name": "ipython",
    "version": 3
   },
   "file_extension": ".py",
   "mimetype": "text/x-python",
   "name": "python",
   "nbconvert_exporter": "python",
   "pygments_lexer": "ipython3",
   "version": "3.12.1"
  }
 },
 "nbformat": 4,
 "nbformat_minor": 2
}
