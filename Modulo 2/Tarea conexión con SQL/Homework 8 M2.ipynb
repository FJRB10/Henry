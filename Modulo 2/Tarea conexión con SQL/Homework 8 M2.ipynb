{
 "cells": [
  {
   "cell_type": "code",
   "execution_count": 20,
   "metadata": {},
   "outputs": [],
   "source": [
    "import pandas as pd\n",
    "import urllib.request\n",
    "\n",
    "#Librerias para conexión con BD.\n",
    "import pymysql\n",
    "from sqlalchemy import create_engine\n",
    "import psycopg2"
   ]
  },
  {
   "cell_type": "markdown",
   "metadata": {},
   "source": [
    "1."
   ]
  },
  {
   "cell_type": "code",
   "execution_count": 13,
   "metadata": {},
   "outputs": [],
   "source": [
    "url = \"https://cdn.buenosaires.gob.ar/datosabiertos/datasets/ente-de-turismo/oferta-establecimientos-gastronomicos/oferta_gastronomica.csv\""
   ]
  },
  {
   "cell_type": "code",
   "execution_count": 14,
   "metadata": {},
   "outputs": [
    {
     "data": {
      "text/plain": [
       "('oferta_gastronomica_BA.csv', <http.client.HTTPMessage at 0x1fbd5d9ac00>)"
      ]
     },
     "execution_count": 14,
     "metadata": {},
     "output_type": "execute_result"
    }
   ],
   "source": [
    "urllib.request.urlretrieve(url, \"oferta_gastronomica_BA.csv\")"
   ]
  },
  {
   "cell_type": "code",
   "execution_count": 18,
   "metadata": {},
   "outputs": [],
   "source": [
    "dataset = pd.read_csv(url)"
   ]
  },
  {
   "cell_type": "code",
   "execution_count": 19,
   "metadata": {},
   "outputs": [
    {
     "data": {
      "text/plain": [
       "Index(['long', 'lat', 'id', 'nombre', 'categoria', 'cocina', 'ambientacion',\n",
       "       'telefono', 'mail', 'horario', 'calle_nombre', 'calle_altura',\n",
       "       'calle_cruce', 'direccion_completa', 'barrio', 'comuna',\n",
       "       'codigo_postal', 'codigo_postal_argentino'],\n",
       "      dtype='object')"
      ]
     },
     "execution_count": 19,
     "metadata": {},
     "output_type": "execute_result"
    }
   ],
   "source": [
    "dataset.columns"
   ]
  },
  {
   "cell_type": "code",
   "execution_count": 85,
   "metadata": {},
   "outputs": [
    {
     "name": "stdout",
     "output_type": "stream",
     "text": [
      "<class 'pandas.core.frame.DataFrame'>\n",
      "RangeIndex: 2823 entries, 0 to 2822\n",
      "Data columns (total 18 columns):\n",
      " #   Column                   Non-Null Count  Dtype  \n",
      "---  ------                   --------------  -----  \n",
      " 0   long                     2823 non-null   float64\n",
      " 1   lat                      2823 non-null   float64\n",
      " 2   id                       2823 non-null   int64  \n",
      " 3   nombre                   2823 non-null   object \n",
      " 4   categoria                2707 non-null   object \n",
      " 5   cocina                   2464 non-null   object \n",
      " 6   ambientacion             2264 non-null   object \n",
      " 7   telefono                 2303 non-null   object \n",
      " 8   mail                     472 non-null    object \n",
      " 9   horario                  725 non-null    object \n",
      " 10  calle_nombre             2823 non-null   object \n",
      " 11  calle_altura             2823 non-null   int64  \n",
      " 12  calle_cruce              6 non-null      object \n",
      " 13  direccion_completa       2822 non-null   object \n",
      " 14  barrio                   2823 non-null   object \n",
      " 15  comuna                   2823 non-null   object \n",
      " 16  codigo_postal            2766 non-null   float64\n",
      " 17  codigo_postal_argentino  2757 non-null   object \n",
      "dtypes: float64(3), int64(2), object(13)\n",
      "memory usage: 397.1+ KB\n"
     ]
    }
   ],
   "source": [
    "dataset.info()"
   ]
  },
  {
   "cell_type": "markdown",
   "metadata": {},
   "source": [
    "2."
   ]
  },
  {
   "cell_type": "code",
   "execution_count": 158,
   "metadata": {},
   "outputs": [],
   "source": [
    "conexion = pymysql.connect(\n",
    "    host = 'localhost',\n",
    "    database = 'tarea_8',\n",
    "    user = 'root',\n",
    "    password = 'root123'\n",
    ")\n",
    "\n",
    "cursor = conexion.cursor()"
   ]
  },
  {
   "cell_type": "code",
   "execution_count": 146,
   "metadata": {},
   "outputs": [],
   "source": [
    "comandos = [\n",
    "    'USE tarea_8;',\n",
    "    'CREATE TABLE datos (id_local INT NOT NULL AUTO_INCREMENT PRIMARY KEY, nombre VARCHAR(50), categoria VARCHAR(50), direccion VARCHAR(50), barrio VARCHAR(50), comuna VARCHAR(30));',\n",
    "    'SELECT * FROM datos;'\n",
    "]"
   ]
  },
  {
   "cell_type": "code",
   "execution_count": 147,
   "metadata": {},
   "outputs": [],
   "source": [
    "for i in comandos:\n",
    "    cursor.execute(i)"
   ]
  },
  {
   "cell_type": "code",
   "execution_count": 117,
   "metadata": {},
   "outputs": [
    {
     "data": {
      "text/plain": [
       "0"
      ]
     },
     "execution_count": 117,
     "metadata": {},
     "output_type": "execute_result"
    }
   ],
   "source": [
    "cursor.execute('ALTER TABLE datos CHANGE nombre nombre VARCHAR(50);')\n",
    "cursor.execute('ALTER TABLE datos CHANGE direccion direccion VARCHAR(50);')\n",
    "cursor.execute('ALTER TABLE datos CHANGE barrio barrio VARCHAR(50);')\n",
    "cursor.execute('ALTER TABLE datos CHANGE comuna comuna VARCHAR(50);')"
   ]
  },
  {
   "cell_type": "code",
   "execution_count": 149,
   "metadata": {},
   "outputs": [
    {
     "name": "stdout",
     "output_type": "stream",
     "text": [
      "Longitud de la lista nombre: 2823\n",
      "Longitud de la lista categoria: 2823\n",
      "Longitud de la lista dirección: 2823\n",
      "Longitud de la lista barrio 2823\n",
      "Longitud de la lista comuna 2823\n"
     ]
    }
   ],
   "source": [
    "nombre = list(dataset['nombre'])\n",
    "categoria = list(dataset['categoria'])\n",
    "direccion = list(dataset['direccion_completa'])\n",
    "barrio = list(dataset['barrio'])\n",
    "comuna = list(dataset['comuna'])\n",
    "\n",
    "print('Longitud de la lista nombre:', len(nombre))\n",
    "print('Longitud de la lista categoria:', len(categoria))\n",
    "print('Longitud de la lista dirección:', len(direccion))\n",
    "print('Longitud de la lista barrio', len(barrio))\n",
    "print('Longitud de la lista comuna', len(comuna))"
   ]
  },
  {
   "cell_type": "code",
   "execution_count": 97,
   "metadata": {},
   "outputs": [
    {
     "data": {
      "text/plain": [
       "'nan'"
      ]
     },
     "execution_count": 97,
     "metadata": {},
     "output_type": "execute_result"
    }
   ],
   "source": [
    "str(direccion[2822])"
   ]
  },
  {
   "cell_type": "code",
   "execution_count": 150,
   "metadata": {},
   "outputs": [],
   "source": [
    "for i in range(len(direccion)):\n",
    "    if type(direccion[i]) != str:\n",
    "        direccion[i] = str(direccion[i])\n",
    "        #print('Indice:', i, 'Tipo', type(direccion[i]))\n",
    "\n",
    "    direccion[i] = direccion[i].replace(',', '')\n",
    "    direccion[i] = direccion[i].replace(\"'\", ' ')"
   ]
  },
  {
   "cell_type": "code",
   "execution_count": 151,
   "metadata": {},
   "outputs": [],
   "source": [
    "for i in range(len(nombre)):\n",
    "    nombre[i] = nombre[i].replace(\"'\", ' ')"
   ]
  },
  {
   "cell_type": "code",
   "execution_count": 152,
   "metadata": {},
   "outputs": [],
   "source": [
    "comandos2 = []\n",
    "\n",
    "for i in range(len(nombre)):\n",
    "    cadena = f\"INSERT datos (nombre, categoria, direccion, barrio, comuna) VALUES ('{nombre[i]}', '{categoria[i]}', '{direccion[i]}', '{barrio[i]}', '{comuna[i]}');\"\n",
    "    comandos2.append(cadena)"
   ]
  },
  {
   "cell_type": "code",
   "execution_count": 154,
   "metadata": {},
   "outputs": [
    {
     "data": {
      "text/plain": [
       "2823"
      ]
     },
     "execution_count": 154,
     "metadata": {},
     "output_type": "execute_result"
    }
   ],
   "source": [
    "len(comandos2)"
   ]
  },
  {
   "cell_type": "code",
   "execution_count": 159,
   "metadata": {},
   "outputs": [],
   "source": [
    "for i in comandos2:\n",
    "    cursor.execute(i)\n",
    "\n",
    "conexion.commit()\n",
    "conexion.close()"
   ]
  },
  {
   "cell_type": "code",
   "execution_count": 119,
   "metadata": {},
   "outputs": [
    {
     "name": "stdout",
     "output_type": "stream",
     "text": [
      "Indice: INSERT datos (nombre, direccion, barrio, comuna) VALUES ('LA CUBANA', 'O'BRIEN 1170', 'Constitucion', 'Comuna 1');\n"
     ]
    }
   ],
   "source": [
    "for i in comandos2:\n",
    "    if \"'BRIEN 1170', 'Constitucion', 'Comuna 1'\" in i:\n",
    "        print('Indice:', i)"
   ]
  },
  {
   "cell_type": "markdown",
   "metadata": {},
   "source": [
    "3.\n",
    "a) ¿Cuál es el barrio con mayor cantidad de Pubs?\n",
    "\n",
    "b) Obtener la cantidad de locales por categoría\n",
    "\n",
    "c) Obtener la cantidad de restaurantes por comuna"
   ]
  },
  {
   "cell_type": "markdown",
   "metadata": {},
   "source": [
    "a"
   ]
  },
  {
   "cell_type": "code",
   "execution_count": 160,
   "metadata": {},
   "outputs": [],
   "source": [
    "conexion = pymysql.connect(\n",
    "    host = 'localhost',\n",
    "    database = 'tarea_8',\n",
    "    user = 'root',\n",
    "    password = 'root123'\n",
    ")\n",
    "\n",
    "cursor = conexion.cursor()"
   ]
  },
  {
   "cell_type": "code",
   "execution_count": 168,
   "metadata": {},
   "outputs": [
    {
     "name": "stdout",
     "output_type": "stream",
     "text": [
      "1\n"
     ]
    }
   ],
   "source": [
    "consulta = \"SELECT barrio, COUNT(*) AS cantidad FROM datos WHERE categoria = 'pub' GROUP BY barrio ORDER BY cantidad DESC LIMIT 1\"\n",
    "\n",
    "print(cursor.execute(consulta))"
   ]
  },
  {
   "cell_type": "code",
   "execution_count": 169,
   "metadata": {},
   "outputs": [
    {
     "name": "stdout",
     "output_type": "stream",
     "text": [
      "('Recoleta', 8)\n"
     ]
    }
   ],
   "source": [
    "for i in cursor:\n",
    "    print(i)"
   ]
  },
  {
   "cell_type": "markdown",
   "metadata": {},
   "source": [
    "b"
   ]
  },
  {
   "cell_type": "code",
   "execution_count": 170,
   "metadata": {},
   "outputs": [
    {
     "name": "stdout",
     "output_type": "stream",
     "text": [
      "9\n"
     ]
    }
   ],
   "source": [
    "consulta = \"SELECT categoria, COUNT(*) AS cantidad FROM datos GROUP BY categoria ORDER BY cantidad DESC\"\n",
    "\n",
    "print(cursor.execute(consulta))"
   ]
  },
  {
   "cell_type": "code",
   "execution_count": 171,
   "metadata": {},
   "outputs": [
    {
     "name": "stdout",
     "output_type": "stream",
     "text": [
      "('RESTAURANTE', 1990)\n",
      "('CAFE', 334)\n",
      "('BAR', 247)\n",
      "('nan', 116)\n",
      "('CONFITERIA', 55)\n",
      "('PUB', 53)\n",
      "('VINERIA', 22)\n",
      "('SANDWICHERIA', 4)\n",
      "('DELIVERY & TAKE AWAY', 2)\n"
     ]
    }
   ],
   "source": [
    "for i in cursor:\n",
    "    print(i)"
   ]
  },
  {
   "cell_type": "markdown",
   "metadata": {},
   "source": [
    "c"
   ]
  },
  {
   "cell_type": "code",
   "execution_count": 172,
   "metadata": {},
   "outputs": [
    {
     "name": "stdout",
     "output_type": "stream",
     "text": [
      "15\n"
     ]
    }
   ],
   "source": [
    "consulta = \"SELECT comuna, COUNT(*) AS cantidad FROM datos WHERE categoria = 'restaurante' GROUP BY comuna ORDER BY cantidad DESC\"\n",
    "\n",
    "print(cursor.execute(consulta))"
   ]
  },
  {
   "cell_type": "code",
   "execution_count": 173,
   "metadata": {},
   "outputs": [
    {
     "name": "stdout",
     "output_type": "stream",
     "text": [
      "('Comuna 1', 609)\n",
      "('Comuna 14', 366)\n",
      "('Comuna 2', 227)\n",
      "('Comuna 3', 145)\n",
      "('Comuna 13', 108)\n",
      "('Comuna 4', 95)\n",
      "('Comuna 6', 87)\n",
      "('Comuna 7', 64)\n",
      "('Comuna 15', 57)\n",
      "('Comuna 5', 56)\n",
      "('Comuna 9', 52)\n",
      "('Comuna 10', 43)\n",
      "('Comuna 12', 42)\n",
      "('Comuna 11', 33)\n",
      "('Comuna 8', 6)\n"
     ]
    }
   ],
   "source": [
    "for i in cursor:\n",
    "    print(i)"
   ]
  }
 ],
 "metadata": {
  "kernelspec": {
   "display_name": "prueba_entornos_virtuales",
   "language": "python",
   "name": "python3"
  },
  "language_info": {
   "codemirror_mode": {
    "name": "ipython",
    "version": 3
   },
   "file_extension": ".py",
   "mimetype": "text/x-python",
   "name": "python",
   "nbconvert_exporter": "python",
   "pygments_lexer": "ipython3",
   "version": "3.12.1"
  }
 },
 "nbformat": 4,
 "nbformat_minor": 2
}
