{
 "cells": [
  {
   "cell_type": "markdown",
   "metadata": {},
   "source": [
    "# Práctica Clase 7"
   ]
  },
  {
   "cell_type": "markdown",
   "metadata": {},
   "source": [
    "1) Diseñar una clase que permita trabajar con un árbol binario y que contenga los métodos:<br>\n",
    "    * insertaVal: para insertar un dato<br>\n",
    "    * buscaVal: que devuelva True o False si existe o no un dato<br>\n",
    "    * verVal: que imprima por pantalla los valores del árbol<br>\n",
    "\n",
    "Nota: Se puede utilizar la recursividad\n"
   ]
  },
  {
   "cell_type": "code",
   "execution_count": 8,
   "metadata": {},
   "outputs": [],
   "source": [
    "class Nodo():\n",
    "    def __init__(self, dato):\n",
    "        self.dato = dato\n",
    "        self.izq = None\n",
    "        self.der = None"
   ]
  },
  {
   "cell_type": "code",
   "execution_count": 49,
   "metadata": {},
   "outputs": [],
   "source": [
    "class ArbolBinario():\n",
    "    def __init__(self, dato:int) -> None:\n",
    "        self.raiz = dato\n",
    "        self.izq = None\n",
    "        self.der = None\n",
    "\n",
    "\n",
    "    def insertaVal(self, dato:int) -> None:\n",
    "        if (self.izq == None):\n",
    "            self.izq = ArbolBinario(dato)\n",
    "        else:\n",
    "            if (self.der == None):\n",
    "                self.der = ArbolBinario(dato)\n",
    "            else:\n",
    "                siguienteNodo = self.izq\n",
    "                \n",
    "                #print('Izquierdo:', siguienteNodo.izq, 'Derecho:', siguienteNodo.der)\n",
    "\n",
    "                if (siguienteNodo.izq == None) | (siguienteNodo.der == None):\n",
    "                    siguienteNodo.insertaVal(dato)\n",
    "                    print('Dato que va para nodo izquierdo', dato)\n",
    "                    #print('Izquierdo:', siguienteNodo.izq, 'Derecho:', siguienteNodo.der)\n",
    "                else:\n",
    "                    siguienteNodo = self.der\n",
    "                    if (siguienteNodo.izq == None) | (siguienteNodo.der == None):\n",
    "                        siguienteNodo.insertaVal(dato)\n",
    "                        print('Dato que va para nodo derecho', dato)\n",
    "\n",
    "\n",
    "    def buscaVal(self, dato:int) -> bool:\n",
    "        while True:\n",
    "            if (dato == self.raiz) | (dato == self.izq.raiz) | (dato == self.der.raiz):\n",
    "                return True\n",
    "            else:\n",
    "                comparador = self.izq\n",
    "                \n",
    "                if comparador.buscaVal(dato) == False:\n",
    "                    comparador = self.der\n",
    "                    if comparador.buscaVal(dato) == False:\n",
    "                        return False\n",
    "                    else:\n",
    "                        return True\n",
    "                else:\n",
    "                    return True\n",
    "\n",
    "#                if (comparador.izq.raiz == dato) | (comparador.der.raiz == dato):\n",
    "#                    return True\n",
    "#                else:\n",
    "#                    comparador = self.der\n",
    "#                    if (comparador.izq.raiz == dato) | (comparador.der.raiz == dato):\n",
    "#                        return True\n",
    "#                    else:\n",
    "#                        return False\n",
    "    \n",
    "\n",
    "    def verVal(self):\n",
    "        return self.raiz"
   ]
  },
  {
   "cell_type": "code",
   "execution_count": 50,
   "metadata": {},
   "outputs": [
    {
     "name": "stdout",
     "output_type": "stream",
     "text": [
      "Dato que va para nodo izquierdo 4\n",
      "Dato que va para nodo izquierdo 5\n",
      "Dato que va para nodo derecho 6\n",
      "Dato que va para nodo derecho 7\n"
     ]
    }
   ],
   "source": [
    "a = ArbolBinario(1)\n",
    "#a.raiz = 1\n",
    "\n",
    "a.insertaVal(2)\n",
    "a.insertaVal(3)\n",
    "a.insertaVal(4)\n",
    "a.insertaVal(5)\n",
    "a.insertaVal(6)\n",
    "a.insertaVal(7)"
   ]
  },
  {
   "cell_type": "code",
   "execution_count": 57,
   "metadata": {},
   "outputs": [
    {
     "data": {
      "text/plain": [
       "True"
      ]
     },
     "execution_count": 57,
     "metadata": {},
     "output_type": "execute_result"
    }
   ],
   "source": [
    "a.buscaVal(5)"
   ]
  }
 ],
 "metadata": {
  "kernelspec": {
   "display_name": "Python 3",
   "language": "python",
   "name": "python3"
  },
  "language_info": {
   "codemirror_mode": {
    "name": "ipython",
    "version": 3
   },
   "file_extension": ".py",
   "mimetype": "text/x-python",
   "name": "python",
   "nbconvert_exporter": "python",
   "pygments_lexer": "ipython3",
   "version": "3.12.1"
  }
 },
 "nbformat": 4,
 "nbformat_minor": 4
}
