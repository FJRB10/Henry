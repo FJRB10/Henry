{
 "cells": [
  {
   "cell_type": "code",
   "execution_count": 1,
   "metadata": {},
   "outputs": [],
   "source": [
    "import pandas as pd\n",
    "import os"
   ]
  },
  {
   "cell_type": "code",
   "execution_count": 2,
   "metadata": {},
   "outputs": [],
   "source": [
    "archivo = open('Emisiones_CO2.csv', 'r', encoding = 'latin-1')"
   ]
  },
  {
   "cell_type": "code",
   "execution_count": 3,
   "metadata": {},
   "outputs": [],
   "source": [
    "dicc_emisiones = {'cod_pais' : [],\n",
    "                  'nom_pais' : [],\n",
    "                  'region' : [],\n",
    "                  'anio' : [],\n",
    "                  'co2' : [],\n",
    "                  'co2_percapita' : []}"
   ]
  },
  {
   "cell_type": "code",
   "execution_count": 4,
   "metadata": {},
   "outputs": [],
   "source": [
    "next(archivo)\n",
    "\n",
    "for linea in archivo:\n",
    "    linea = linea.strip()\n",
    "    campos = linea.split('|')\n",
    "    dicc_emisiones['cod_pais'].append(campos[0])\n",
    "    dicc_emisiones['nom_pais'].append(campos[1])\n",
    "    dicc_emisiones['region'].append(campos[2])\n",
    "    dicc_emisiones['anio'].append(campos[3])\n",
    "    dicc_emisiones['co2'].append(campos[4])\n",
    "    dicc_emisiones['co2_percapita'].append(campos[5])"
   ]
  },
  {
   "cell_type": "code",
   "execution_count": 5,
   "metadata": {},
   "outputs": [],
   "source": [
    "archivo.close()"
   ]
  },
  {
   "cell_type": "code",
   "execution_count": 7,
   "metadata": {},
   "outputs": [
    {
     "name": "stdout",
     "output_type": "stream",
     "text": [
      "100\n",
      "AND\n",
      "Andorra\n",
      "Europa y Asia Central\n",
      "2008\n",
      "539,049\n",
      "6,296124556\n"
     ]
    }
   ],
   "source": [
    "i = 100\n",
    "print(i)\n",
    "print(dicc_emisiones['cod_pais'][i])\n",
    "print(dicc_emisiones['nom_pais'][i])\n",
    "print(dicc_emisiones['region'][i])\n",
    "print(dicc_emisiones['anio'][i])\n",
    "print(dicc_emisiones['co2'][i])\n",
    "print(dicc_emisiones['co2_percapita'][i])"
   ]
  },
  {
   "cell_type": "code",
   "execution_count": 9,
   "metadata": {},
   "outputs": [],
   "source": [
    "for indice, elemento in enumerate(dicc_emisiones['co2']):\n",
    "    elemento = elemento.replace('.', '')\n",
    "    elemento = elemento.replace(',', '.')\n",
    "\n",
    "    if elemento != '':\n",
    "        elemento = float(elemento)\n",
    "    else:\n",
    "        elemento = None\n",
    "\n",
    "    dicc_emisiones['co2'][indice] = elemento"
   ]
  },
  {
   "cell_type": "code",
   "execution_count": 10,
   "metadata": {},
   "outputs": [],
   "source": [
    "for indice, elemento in enumerate(dicc_emisiones['co2_percapita']):\n",
    "    elemento = elemento.replace('\\n', '')\n",
    "    elemento = elemento.replace('.', '')\n",
    "    elemento = elemento.replace(',', '.')\n",
    "\n",
    "    if elemento != '':\n",
    "        elemento = float(elemento)\n",
    "    else:\n",
    "        elemento = None\n",
    "\n",
    "    dicc_emisiones['co2_percapita'][indice] = elemento"
   ]
  },
  {
   "cell_type": "code",
   "execution_count": 12,
   "metadata": {},
   "outputs": [
    {
     "name": "stdout",
     "output_type": "stream",
     "text": [
      "Las emisiones en América Latina y Caribe para el año 2010 fueron de  1691634.8009999995 kt\n"
     ]
    }
   ],
   "source": [
    "filtro_region = 'América Latina y Caribe'\n",
    "filtro_anio = '2010'\n",
    "emisiones = 0\n",
    "\n",
    "for indice, elemento in enumerate(dicc_emisiones['region']):\n",
    "    if dicc_emisiones['region'][indice] == filtro_region:\n",
    "        if dicc_emisiones['anio'][indice] == filtro_anio:\n",
    "            if dicc_emisiones['co2'][indice] != None:\n",
    "                emisiones += dicc_emisiones['co2'][indice]\n",
    "\n",
    "print(\"Las emisiones en\", filtro_region, 'para el año', filtro_anio, 'fueron de ', emisiones, 'kt')"
   ]
  }
 ],
 "metadata": {
  "kernelspec": {
   "display_name": "prueba_entornos_virtuales",
   "language": "python",
   "name": "python3"
  },
  "language_info": {
   "codemirror_mode": {
    "name": "ipython",
    "version": 3
   },
   "file_extension": ".py",
   "mimetype": "text/x-python",
   "name": "python",
   "nbconvert_exporter": "python",
   "pygments_lexer": "ipython3",
   "version": "3.12.1"
  }
 },
 "nbformat": 4,
 "nbformat_minor": 2
}
