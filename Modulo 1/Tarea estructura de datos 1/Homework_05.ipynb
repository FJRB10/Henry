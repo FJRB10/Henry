{
 "cells": [
  {
   "cell_type": "markdown",
   "metadata": {},
   "source": [
    "# Práctica Clase 5"
   ]
  },
  {
   "cell_type": "markdown",
   "metadata": {},
   "source": [
    "1) Implementar un juego, que consista en apilar números enteros del 1 al 20, de forma aleatoria, para lo cual debe usarse una estructura de Pila. \n",
    "Luego, el usuario debe elegir un número de veces en que se va a quitar elementos de la pila, los cuales, sumados entre sí, no deben superar el valor de 50.\n",
    "El usuario pierde si la suma supera ese valor. Si no lo supera, gana, pero su calificación será 10 menos el número elementos que falten quitar para todavía no superar 50.\n",
    "El programa debe informar si perdió, y si ganó, con qué calificación lo hizo.\n",
    "\n",
    "Consideraciones:<br>\n",
    "a. Se puede usar la función input() para obtener una entrada de teclado.<br>\n",
    "b. Se puede usar la el modulo random para obtener valores aleatorios."
   ]
  },
  {
   "cell_type": "code",
   "execution_count": 8,
   "metadata": {},
   "outputs": [],
   "source": [
    "import random\n",
    "import numpy as np"
   ]
  },
  {
   "cell_type": "code",
   "execution_count": 25,
   "metadata": {},
   "outputs": [
    {
     "data": {
      "text/plain": [
       "[16, 20, 5, 12, 8, 15, 3, 6, 2, 19, 9, 11, 1, 14, 10, 17, 7, 13, 4, 18]"
      ]
     },
     "execution_count": 25,
     "metadata": {},
     "output_type": "execute_result"
    }
   ],
   "source": [
    "#Forma 1 de hacer la pila\n",
    "pila1 = random.sample(range(1,21), 20)\n",
    "pila1"
   ]
  },
  {
   "cell_type": "code",
   "execution_count": 20,
   "metadata": {},
   "outputs": [
    {
     "data": {
      "text/plain": [
       "array([ 1, 17,  7,  3, 16, 20, 19,  5, 18, 11,  2,  4, 15, 13, 12,  9,  8,\n",
       "        6, 10, 14])"
      ]
     },
     "execution_count": 20,
     "metadata": {},
     "output_type": "execute_result"
    }
   ],
   "source": [
    "#Forma 2 de ahcer la pila\n",
    "pila2 = np.random.choice(np.arange(1,21), 20, replace = False)\n",
    "pila2"
   ]
  },
  {
   "cell_type": "code",
   "execution_count": 83,
   "metadata": {},
   "outputs": [
    {
     "name": "stdout",
     "output_type": "stream",
     "text": [
      "1\n",
      "18\n",
      "12\n",
      "11\n",
      "5\n",
      "6\n",
      "16\n",
      "4\n",
      "7\n",
      "9\n",
      "8\n",
      "17\n",
      "20\n",
      "2\n",
      "3\n",
      "15\n",
      "13\n",
      "14\n",
      "19\n",
      "10\n"
     ]
    },
    {
     "data": {
      "text/plain": [
       "[1, 18, 12, 11, 5, 6, 16, 4, 7, 9, 8, 17, 20, 2, 3, 15, 13, 14, 19, 10]"
      ]
     },
     "execution_count": 83,
     "metadata": {},
     "output_type": "execute_result"
    }
   ],
   "source": [
    "#Forma 4 de hacer la pila\n",
    "pila3 = []\n",
    "\n",
    "while len(pila3) < 20:\n",
    "    numRandom = np.random.randint(1,21)\n",
    "    \n",
    "    if numRandom not in (pila3):\n",
    "        pila3.append(numRandom)\n",
    "        print(numRandom)\n",
    "\n",
    "pila3"
   ]
  },
  {
   "cell_type": "code",
   "execution_count": 86,
   "metadata": {},
   "outputs": [
    {
     "name": "stdout",
     "output_type": "stream",
     "text": [
      "Número extraido: 7\n",
      "Número extraido: 14\n",
      "Número extraido: 12\n",
      "33\n",
      "Gano con un puntaje de: 9\n"
     ]
    }
   ],
   "source": [
    "#Creación del juego 1\n",
    "\n",
    "#Creación de variables\n",
    "pila3 = []\n",
    "numeros_Extraidos = []\n",
    "num = -1\n",
    "puntaje = 10\n",
    "#-----------------------------------------------------------------------------------------------------------------------------------------------------------------------------------------------------\n",
    "\n",
    "#Creación de la pila con los números del 1 al 20 de forma aleatoria\n",
    "while len(pila3) < 20:\n",
    "    numRandom = np.random.randint(1,21)\n",
    "    \n",
    "    if numRandom not in (pila3):\n",
    "        pila3.append(numRandom)\n",
    "#-----------------------------------------------------------------------------------------------------------------------------------------------------------------------------------------------------\n",
    "\n",
    "#Inicio del juego\n",
    "contador = int(input('Ingrese el número de veces que quiere extraer un numero de la pila. Recuerde que es una pila con números del 1 al 20'))\n",
    "\n",
    "for i in range(contador):\n",
    "    numeros_Extraidos.append(pila3.pop(-1))\n",
    "    print('Número extraido:', numeros_Extraidos[-1])\n",
    "\n",
    "numeros_Extraidos = np.array(numeros_Extraidos)\n",
    "#print(numeros_Extraidos)\n",
    "suma_Jugador = numeros_Extraidos.sum()\n",
    "print(suma_Jugador)\n",
    "\n",
    "if suma_Jugador > 50:\n",
    "    print('!PERDIO!')\n",
    "elif suma_Jugador == 50:\n",
    "    print('Gano con un puntaje de:', puntaje)\n",
    "else:\n",
    "    while True:\n",
    "        suma_Jugador += pila3[num]\n",
    "        num -= 1\n",
    "\n",
    "        if suma_Jugador >= 50:\n",
    "            print('Gano con un puntaje de:', puntaje)\n",
    "            break\n",
    "        else:\n",
    "            puntaje -= 1\n",
    "#-----------------------------------------------------------------------------------------------------------------------------------------------------------------------------------------------------"
   ]
  },
  {
   "cell_type": "code",
   "execution_count": 79,
   "metadata": {},
   "outputs": [
    {
     "data": {
      "text/plain": [
       "24"
      ]
     },
     "execution_count": 79,
     "metadata": {},
     "output_type": "execute_result"
    }
   ],
   "source": [
    "numeros_Extraidos.sum()"
   ]
  },
  {
   "cell_type": "markdown",
   "metadata": {},
   "source": [
    "2) Implementar un juego donde constas de 2 jarras, de capacidad 5 y 3 litros respectivamente, y debes colocar 4 litros en la jarra de 5L.\n",
    "Las opciones posibles son:\n",
    "* Llenar la jarra de 3 litros\n",
    "* Llenar la jarra de 5 litros\n",
    "* Vaciar la jarra de 3 litros\n",
    "* Vaciar la jarra de 5 litros\n",
    "* Verter el contenido de la jarra de 3 litros en la de 5 litros\n",
    "* Verter el contenido de la jarra de 5 litros en la de 3 litros"
   ]
  }
 ],
 "metadata": {
  "kernelspec": {
   "display_name": "Python 3.11.3 64-bit",
   "language": "python",
   "name": "python3"
  },
  "language_info": {
   "codemirror_mode": {
    "name": "ipython",
    "version": 3
   },
   "file_extension": ".py",
   "mimetype": "text/x-python",
   "name": "python",
   "nbconvert_exporter": "python",
   "pygments_lexer": "ipython3",
   "version": "3.12.1"
  },
  "vscode": {
   "interpreter": {
    "hash": "52634da84371cba311ea128a5ea7cdc41ff074b781779e754b270ff9f8153cee"
   }
  }
 },
 "nbformat": 4,
 "nbformat_minor": 4
}
